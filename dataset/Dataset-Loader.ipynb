{
 "cells": [
  {
   "cell_type": "code",
   "execution_count": 4,
   "metadata": {
    "collapsed": true
   },
   "outputs": [],
   "source": [
    "from xml.dom import minidom\n",
    "from BeautifulSoup import BeautifulSoup\n",
    "from nltk.tokenize import TweetTokenizer\n",
    "from os import walk\n",
    "import pyprind\n",
    "import re\n",
    "import pandas as pd\n",
    "import pickle"
   ]
  },
  {
   "cell_type": "markdown",
   "metadata": {},
   "source": [
    "** 1. Učitavanje svih XML-a i spremanje u mapu sa parovima [user_id::int, tweets::list(String))] **"
   ]
  },
  {
   "cell_type": "code",
   "execution_count": 5,
   "metadata": {},
   "outputs": [
    {
     "name": "stderr",
     "output_type": "stream",
     "text": [
      "0%                          100%\n",
      "[##############################] | ETA: 00:00:00\n",
      "Total time elapsed: 00:00:15\n"
     ]
    }
   ],
   "source": [
    "mapa = {}\n",
    "mypath = 'input'\n",
    "\n",
    "\n",
    "for (dirpath, dirnames, filenames) in walk(mypath):\n",
    "    pbar = pyprind.ProgBar(len(filenames))\n",
    "    for f in filenames:\n",
    "        fsp = f.split(\".\")\n",
    "        if fsp[-1] == 'xml':\n",
    "            xmldoc = minidom.parse(mypath + \"/\" + f)\n",
    "            tweets = []\n",
    "            for doc in xmldoc.getElementsByTagName('document'):\n",
    "                try:\n",
    "                    tweets.append(doc.firstChild.wholeText)\n",
    "                    br_tweets += 1\n",
    "                except:\n",
    "                    pass\n",
    "            mapa[fsp[0]] = tweets\n",
    "        pbar.update()"
   ]
  },
  {
   "cell_type": "markdown",
   "metadata": {},
   "source": [
    "** 2. Provjera mape **"
   ]
  },
  {
   "cell_type": "code",
   "execution_count": 6,
   "metadata": {},
   "outputs": [
    {
     "name": "stdout",
     "output_type": "stream",
     "text": [
      "Broj praznih entry-a!! :  15 / 436\n"
     ]
    },
    {
     "data": {
      "text/html": [
       "<div>\n",
       "<table border=\"1\" class=\"dataframe\">\n",
       "  <thead>\n",
       "    <tr style=\"text-align: right;\">\n",
       "      <th></th>\n",
       "      <th>user_id</th>\n",
       "      <th>tweets</th>\n",
       "    </tr>\n",
       "  </thead>\n",
       "  <tbody>\n",
       "    <tr>\n",
       "      <th>0</th>\n",
       "      <td>f677a164b16096fc2eb3af86694da8ac</td>\n",
       "      <td>[Flashback: WSJ (7/28/11): The Road to a Downg...</td>\n",
       "    </tr>\n",
       "    <tr>\n",
       "      <th>1</th>\n",
       "      <td>15bfa35315fb53d6d2116e103e744db2</td>\n",
       "      <td>[Veient el partit del Barça en un hotel a Manc...</td>\n",
       "    </tr>\n",
       "    <tr>\n",
       "      <th>2</th>\n",
       "      <td>7eab4a711ed86375a854684f4330ea81</td>\n",
       "      <td>[Social Leopard: How to master and command the...</td>\n",
       "    </tr>\n",
       "    <tr>\n",
       "      <th>3</th>\n",
       "      <td>5041977a41240fa87c06e5d98500921a</td>\n",
       "      <td>[Muy buen artículo: Women Rising: The Unseen B...</td>\n",
       "    </tr>\n",
       "    <tr>\n",
       "      <th>4</th>\n",
       "      <td>751221978067db4e4cecef07c1763f2c</td>\n",
       "      <td>[Visiting our neighbors&amp;#39; MLS Committee to ...</td>\n",
       "    </tr>\n",
       "    <tr>\n",
       "      <th>5</th>\n",
       "      <td>b88171637fa04a302e94b14402f2793a</td>\n",
       "      <td>[&lt;a href=\"/scottsanchez\" class=\"twitter-atrepl...</td>\n",
       "    </tr>\n",
       "    <tr>\n",
       "      <th>6</th>\n",
       "      <td>f5abf96f244c876d17ecf69863cb0abb</td>\n",
       "      <td>[@socialmurcia1 &lt;a href=\"/smerigom\" class=\"twi...</td>\n",
       "    </tr>\n",
       "    <tr>\n",
       "      <th>7</th>\n",
       "      <td>330afc0d53fa05e546fef9ec5ee76d3d</td>\n",
       "      <td>[I wish there was a late night &lt;a href=\"/hasht...</td>\n",
       "    </tr>\n",
       "    <tr>\n",
       "      <th>8</th>\n",
       "      <td>b9114397ca060ce9de73d8073b0c53c3</td>\n",
       "      <td>[Infographic: Doctors Prescribing More Mobile ...</td>\n",
       "    </tr>\n",
       "    <tr>\n",
       "      <th>9</th>\n",
       "      <td>cb9088be965f6ef60167811b4911d083</td>\n",
       "      <td>[I always got your back, BFE&lt;a href=\"http://t....</td>\n",
       "    </tr>\n",
       "  </tbody>\n",
       "</table>\n",
       "</div>"
      ],
      "text/plain": [
       "                            user_id  \\\n",
       "0  f677a164b16096fc2eb3af86694da8ac   \n",
       "1  15bfa35315fb53d6d2116e103e744db2   \n",
       "2  7eab4a711ed86375a854684f4330ea81   \n",
       "3  5041977a41240fa87c06e5d98500921a   \n",
       "4  751221978067db4e4cecef07c1763f2c   \n",
       "5  b88171637fa04a302e94b14402f2793a   \n",
       "6  f5abf96f244c876d17ecf69863cb0abb   \n",
       "7  330afc0d53fa05e546fef9ec5ee76d3d   \n",
       "8  b9114397ca060ce9de73d8073b0c53c3   \n",
       "9  cb9088be965f6ef60167811b4911d083   \n",
       "\n",
       "                                              tweets  \n",
       "0  [Flashback: WSJ (7/28/11): The Road to a Downg...  \n",
       "1  [Veient el partit del Barça en un hotel a Manc...  \n",
       "2  [Social Leopard: How to master and command the...  \n",
       "3  [Muy buen artículo: Women Rising: The Unseen B...  \n",
       "4  [Visiting our neighbors&#39; MLS Committee to ...  \n",
       "5  [<a href=\"/scottsanchez\" class=\"twitter-atrepl...  \n",
       "6  [@socialmurcia1 <a href=\"/smerigom\" class=\"twi...  \n",
       "7  [I wish there was a late night <a href=\"/hasht...  \n",
       "8  [Infographic: Doctors Prescribing More Mobile ...  \n",
       "9  [I always got your back, BFE<a href=\"http://t....  "
      ]
     },
     "execution_count": 6,
     "metadata": {},
     "output_type": "execute_result"
    }
   ],
   "source": [
    "df = pd.DataFrame()\n",
    "no_of_empty = 0\n",
    "\n",
    "for key in mapa:\n",
    "    if len(mapa[key]) == 0:\n",
    "        no_of_empty += 1\n",
    "    else:\n",
    "        df = df.append([[key, mapa[key][:3]]], ignore_index=True)\n",
    "\n",
    "df.columns = ['user_id', 'tweets']\n",
    "\n",
    "print \"Broj praznih entry-a!! : \", no_of_empty, \"/\", len(mapa)\n",
    "df.head(10)"
   ]
  },
  {
   "cell_type": "markdown",
   "metadata": {},
   "source": [
    "Funkcija za preprocesiranje podataka\n"
   ]
  },
  {
   "cell_type": "code",
   "execution_count": 7,
   "metadata": {
    "collapsed": true
   },
   "outputs": [],
   "source": [
    "def preprocess(tweet):\n",
    "    tt = TweetTokenizer()\n",
    "    soup = BeautifulSoup(tweet)\n",
    "    text = soup.getText().replace('&nbsp', ' ')\n",
    "\n",
    "    #uklanjanje hiperlinkova\n",
    "    text = re.sub(r\"http\\S+\", \"URL\", text)\n",
    "\n",
    "    #uklanjanje brojeva\n",
    "    text = re.sub(r\"(\\+|\\-)*(\\d+\\.\\d+)|\\+(\\d+)|\\-(\\d+)|(\\d+)\", \"NUMBER\", text)\n",
    "\n",
    "    return tt.tokenize(text)\n"
   ]
  },
  {
   "cell_type": "markdown",
   "metadata": {},
   "source": [
    "** 3. Preprocessiranje mape **\n"
   ]
  },
  {
   "cell_type": "code",
   "execution_count": 8,
   "metadata": {},
   "outputs": [
    {
     "name": "stderr",
     "output_type": "stream",
     "text": [
      "0%                          100%\n",
      "[##############################] | ETA: 00:00:00\n",
      "Total time elapsed: 00:03:11\n"
     ]
    }
   ],
   "source": [
    "prepro_map = {}\n",
    "\n",
    "pbar = pyprind.ProgBar(len(mapa))\n",
    "\n",
    "for key in mapa:\n",
    "    prepro_map[key] = [preprocess(tweet) for tweet in mapa[key]]\n",
    "    pbar.update()"
   ]
  },
  {
   "cell_type": "markdown",
   "metadata": {},
   "source": [
    "** 4. Učitavanje spola i dobi korisnika **"
   ]
  },
  {
   "cell_type": "markdown",
   "metadata": {},
   "source": [
    "Enumeracije spola i dobi"
   ]
  },
  {
   "cell_type": "code",
   "execution_count": 10,
   "metadata": {
    "collapsed": true
   },
   "outputs": [],
   "source": [
    "from enum import Enum\n",
    "from dataset_map_entry import Gender\n",
    "from dataset_map_entry import AgeGroup"
   ]
  },
  {
   "cell_type": "markdown",
   "metadata": {},
   "source": [
    "Razred u koji se sprema value mape: (spol, dob, lista sa tvitovima korisnika), pri cemu je kljuc korinsikov id"
   ]
  },
  {
   "cell_type": "code",
   "execution_count": 11,
   "metadata": {
    "collapsed": true
   },
   "outputs": [],
   "source": [
    "from dataset_map_entry import TweetMapEntry"
   ]
  },
  {
   "cell_type": "code",
   "execution_count": 12,
   "metadata": {},
   "outputs": [
    {
     "name": "stderr",
     "output_type": "stream",
     "text": [
      "0%                          100%\n",
      "[##############################] | ETA: 00:00:00\n",
      "Total time elapsed: 00:00:00\n"
     ]
    }
   ],
   "source": [
    "\n",
    "final_map = {}\n",
    "pbar = pyprind.ProgBar(len(prepro_map))\n",
    "\n",
    "with open('./input/truth.txt','r') as fl:\n",
    "    for f in fl:\n",
    "        splitted = f.strip().split(':::')\n",
    "        #print splitted[0], Gender[splitted[1]], AgeGroup[\"_\" + splitted[2].replace('-','_')]\n",
    "        final_map[splitted[0]] = TweetMapEntry(Gender[splitted[1]]\n",
    "                                               , AgeGroup[\"_\" + splitted[2].replace('-','_')], prepro_map[splitted[0]])\n",
    "        pbar.update()"
   ]
  },
  {
   "cell_type": "markdown",
   "metadata": {},
   "source": [
    "** 5. Spremanje mape u datoteku **"
   ]
  },
  {
   "cell_type": "code",
   "execution_count": 13,
   "metadata": {
    "collapsed": true
   },
   "outputs": [],
   "source": [
    "output_dir = open('./output/map_final.pkl', 'wb')\n",
    "pickle.dump(final_map, output_dir)\n",
    "output_dir.close()"
   ]
  },
  {
   "cell_type": "markdown",
   "metadata": {},
   "source": [
    "** 6. Primjer ispisa mape sa samo jednim primjerkom twita **\n"
   ]
  },
  {
   "cell_type": "code",
   "execution_count": 14,
   "metadata": {},
   "outputs": [
    {
     "name": "stdout",
     "output_type": "stream",
     "text": [
      "Broj praznih entry-a!! :  15 / 436\n"
     ]
    },
    {
     "data": {
      "text/html": [
       "<div>\n",
       "<table border=\"1\" class=\"dataframe\">\n",
       "  <thead>\n",
       "    <tr style=\"text-align: right;\">\n",
       "      <th></th>\n",
       "      <th>user_id</th>\n",
       "      <th>gender</th>\n",
       "      <th>age group</th>\n",
       "      <th>only one tweet from list</th>\n",
       "    </tr>\n",
       "  </thead>\n",
       "  <tbody>\n",
       "    <tr>\n",
       "      <th>0</th>\n",
       "      <td>f677a164b16096fc2eb3af86694da8ac</td>\n",
       "      <td>Gender.MALE</td>\n",
       "      <td>AgeGroup._25_34</td>\n",
       "      <td>[Flashback, :, WSJ, (, NUMBER, /, NUMBER, /, N...</td>\n",
       "    </tr>\n",
       "    <tr>\n",
       "      <th>1</th>\n",
       "      <td>15bfa35315fb53d6d2116e103e744db2</td>\n",
       "      <td>Gender.MALE</td>\n",
       "      <td>AgeGroup._35_49</td>\n",
       "      <td>[Veient, el, partit, del, Barça, en, un, hotel...</td>\n",
       "    </tr>\n",
       "    <tr>\n",
       "      <th>2</th>\n",
       "      <td>833f9711a4e415b8398c8ddffbeac33d</td>\n",
       "      <td>Gender.FEMALE</td>\n",
       "      <td>AgeGroup._18_24</td>\n",
       "      <td>[meet, Karen, Lee, !, :D]</td>\n",
       "    </tr>\n",
       "    <tr>\n",
       "      <th>3</th>\n",
       "      <td>5041977a41240fa87c06e5d98500921a</td>\n",
       "      <td>Gender.FEMALE</td>\n",
       "      <td>AgeGroup._50_64</td>\n",
       "      <td>[Muy, buen, artículo, :, Women, Rising, :, The...</td>\n",
       "    </tr>\n",
       "    <tr>\n",
       "      <th>4</th>\n",
       "      <td>751221978067db4e4cecef07c1763f2c</td>\n",
       "      <td>Gender.FEMALE</td>\n",
       "      <td>AgeGroup._35_49</td>\n",
       "      <td>[Visiting, our, neighbors, MLS, Committee, to,...</td>\n",
       "    </tr>\n",
       "    <tr>\n",
       "      <th>5</th>\n",
       "      <td>b88171637fa04a302e94b14402f2793a</td>\n",
       "      <td>Gender.MALE</td>\n",
       "      <td>AgeGroup._25_34</td>\n",
       "      <td>[@scottsanchezthanks, for, the, @, :-)]</td>\n",
       "    </tr>\n",
       "    <tr>\n",
       "      <th>6</th>\n",
       "      <td>f5abf96f244c876d17ecf69863cb0abb</td>\n",
       "      <td>Gender.FEMALE</td>\n",
       "      <td>AgeGroup._35_49</td>\n",
       "      <td>[@socialmurciaNUMBER, @smerigom, @MaribelRamnP...</td>\n",
       "    </tr>\n",
       "    <tr>\n",
       "      <th>7</th>\n",
       "      <td>b0d2501202d406fd07ab84db6f751543</td>\n",
       "      <td>Gender.MALE</td>\n",
       "      <td>AgeGroup._50_64</td>\n",
       "      <td>[A, chance, to, keep, the, folks, who, never, ...</td>\n",
       "    </tr>\n",
       "    <tr>\n",
       "      <th>8</th>\n",
       "      <td>b9114397ca060ce9de73d8073b0c53c3</td>\n",
       "      <td>Gender.FEMALE</td>\n",
       "      <td>AgeGroup._35_49</td>\n",
       "      <td>[Infographic, :, Doctors, Prescribing, More, M...</td>\n",
       "    </tr>\n",
       "    <tr>\n",
       "      <th>9</th>\n",
       "      <td>cb9088be965f6ef60167811b4911d083</td>\n",
       "      <td>Gender.MALE</td>\n",
       "      <td>AgeGroup._25_34</td>\n",
       "      <td>[I, always, got, your, back]</td>\n",
       "    </tr>\n",
       "  </tbody>\n",
       "</table>\n",
       "</div>"
      ],
      "text/plain": [
       "                            user_id         gender        age group  \\\n",
       "0  f677a164b16096fc2eb3af86694da8ac    Gender.MALE  AgeGroup._25_34   \n",
       "1  15bfa35315fb53d6d2116e103e744db2    Gender.MALE  AgeGroup._35_49   \n",
       "2  833f9711a4e415b8398c8ddffbeac33d  Gender.FEMALE  AgeGroup._18_24   \n",
       "3  5041977a41240fa87c06e5d98500921a  Gender.FEMALE  AgeGroup._50_64   \n",
       "4  751221978067db4e4cecef07c1763f2c  Gender.FEMALE  AgeGroup._35_49   \n",
       "5  b88171637fa04a302e94b14402f2793a    Gender.MALE  AgeGroup._25_34   \n",
       "6  f5abf96f244c876d17ecf69863cb0abb  Gender.FEMALE  AgeGroup._35_49   \n",
       "7  b0d2501202d406fd07ab84db6f751543    Gender.MALE  AgeGroup._50_64   \n",
       "8  b9114397ca060ce9de73d8073b0c53c3  Gender.FEMALE  AgeGroup._35_49   \n",
       "9  cb9088be965f6ef60167811b4911d083    Gender.MALE  AgeGroup._25_34   \n",
       "\n",
       "                            only one tweet from list  \n",
       "0  [Flashback, :, WSJ, (, NUMBER, /, NUMBER, /, N...  \n",
       "1  [Veient, el, partit, del, Barça, en, un, hotel...  \n",
       "2                          [meet, Karen, Lee, !, :D]  \n",
       "3  [Muy, buen, artículo, :, Women, Rising, :, The...  \n",
       "4  [Visiting, our, neighbors, MLS, Committee, to,...  \n",
       "5            [@scottsanchezthanks, for, the, @, :-)]  \n",
       "6  [@socialmurciaNUMBER, @smerigom, @MaribelRamnP...  \n",
       "7  [A, chance, to, keep, the, folks, who, never, ...  \n",
       "8  [Infographic, :, Doctors, Prescribing, More, M...  \n",
       "9                       [I, always, got, your, back]  "
      ]
     },
     "execution_count": 14,
     "metadata": {},
     "output_type": "execute_result"
    }
   ],
   "source": [
    "df = pd.DataFrame()\n",
    "\n",
    "for key in final_map:\n",
    "    if len(final_map[key].get_tweets()) > 0:\n",
    "        entry = final_map[key]\n",
    "        df = df.append([[key, entry.get_gender(), entry.get_age_group(), entry.get_tweets()[0]]], ignore_index=True)\n",
    "\n",
    "df.columns = ['user_id', 'gender', 'age group', 'only one tweet from list']\n",
    "\n",
    "print \"Broj praznih entry-a!! : \", no_of_empty, \"/\", len(mapa)\n",
    "df.head(10)"
   ]
  }
 ],
 "metadata": {
  "anaconda-cloud": {},
  "kernelspec": {
   "display_name": "Python 3",
   "language": "python",
   "name": "python3"
  },
  "language_info": {
   "codemirror_mode": {
    "name": "ipython",
    "version": 3
   },
   "file_extension": ".py",
   "mimetype": "text/x-python",
   "name": "python",
   "nbconvert_exporter": "python",
   "pygments_lexer": "ipython3",
   "version": "3.5.2"
  }
 },
 "nbformat": 4,
 "nbformat_minor": 1
}
