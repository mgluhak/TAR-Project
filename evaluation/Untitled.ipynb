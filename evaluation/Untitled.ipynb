{
 "cells": [
  {
   "cell_type": "code",
   "execution_count": 1,
   "metadata": {
    "collapsed": true
   },
   "outputs": [],
   "source": [
    "import math\n",
    "\n",
    "# compute the entropy of a given node\n",
    "# node example: [2, 5]\n",
    "def entropy(root):\n",
    "\th = 0.0\n",
    "\tfor opt in root:\n",
    "\t\tif opt is 0:\n",
    "\t\t\th += 0\n",
    "\t\telse:\n",
    "\t\t\th += (opt / sum(root) * math.log(sum(root) / opt, 2))\n",
    "\treturn h\n",
    "\n",
    "# compute the Information Gain of a given subtree\n",
    "# subtree example: root: [2, 5] and childreen: [[1, 4], [1, 1]]\n",
    "def conditional_entropy(root, children):\n",
    "\th = 0.0\n",
    "\tfor node in children:\n",
    "\t\th += (sum(node) / sum(root)) * entropy(node)\n",
    "\treturn h\n",
    "\n",
    "# compute the Information Gain of a given subtree\n",
    "# subtree example: root: [2, 5] and childreen: [[1, 4], [1, 1]]\n",
    "def information_gain(root, children):\n",
    "\tig = entropy(root) - conditional_entropy(root, children)\n",
    "\treturn ig\n",
    "\n",
    "### MAIN ###"
   ]
  },
  {
   "cell_type": "code",
   "execution_count": 2,
   "metadata": {},
   "outputs": [
    {
     "data": {
      "text/plain": [
       "-0.08131110176213663"
      ]
     },
     "execution_count": 2,
     "metadata": {},
     "output_type": "execute_result"
    }
   ],
   "source": [
    "X = [[1, 2], [3,4]]\n",
    "y = [4, 5]\n",
    "information_gain(y, X)"
   ]
  },
  {
   "cell_type": "code",
   "execution_count": 3,
   "metadata": {
    "collapsed": true
   },
   "outputs": [],
   "source": [
    "from sklearn.tree import DecisionTreeClassifier\n",
    "\n",
    "dt = DecisionTreeClassifier"
   ]
  },
  {
   "cell_type": "code",
   "execution_count": null,
   "metadata": {
    "collapsed": true
   },
   "outputs": [],
   "source": []
  }
 ],
 "metadata": {
  "kernelspec": {
   "display_name": "Python 3",
   "language": "python",
   "name": "python3"
  },
  "language_info": {
   "codemirror_mode": {
    "name": "ipython",
    "version": 3
   },
   "file_extension": ".py",
   "mimetype": "text/x-python",
   "name": "python",
   "nbconvert_exporter": "python",
   "pygments_lexer": "ipython3",
   "version": "3.5.2"
  }
 },
 "nbformat": 4,
 "nbformat_minor": 2
}
