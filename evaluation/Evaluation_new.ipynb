{
 "cells": [
  {
   "cell_type": "code",
   "execution_count": 8,
   "metadata": {
    "collapsed": true
   },
   "outputs": [],
   "source": [
    "import sys\n",
    "# ignore warnings\n",
    "import warnings\n",
    "warnings.filterwarnings('ignore')\n",
    "\n",
    "# make sure to use position 1\n",
    "sys.path.insert(1, \"../\")"
   ]
  },
  {
   "cell_type": "markdown",
   "metadata": {},
   "source": [
    "## 0. Loading dataset, modules and defining constants"
   ]
  },
  {
   "cell_type": "code",
   "execution_count": 9,
   "metadata": {
    "collapsed": true
   },
   "outputs": [],
   "source": [
    "import dataset.dataset_reader as dr\n",
    "dataset = dr.load_dataset()"
   ]
  },
  {
   "cell_type": "code",
   "execution_count": 10,
   "metadata": {
    "collapsed": true
   },
   "outputs": [],
   "source": [
    "BOTH = \"both\"\n",
    "AGE_ONLY = \"age\"\n",
    "GENDER_ONLY = \"gender\""
   ]
  },
  {
   "cell_type": "code",
   "execution_count": 47,
   "metadata": {
    "collapsed": true
   },
   "outputs": [],
   "source": [
    "SVM_LINEAR = 'svm_linear.pkl'\n",
    "SVM_LINEAR_FEATURES = 'svm_linear_features.pkl'\n",
    "SVM_LINEAR_SCALED_PCA = 'svm_linear_scl_pca.pkl'\n",
    "SVM_LINEAR_FEATURES_CHI2 = 'svm_linear_feat_chi2.pkl'\n",
    "STACKING = 'stacking.pkl'\n",
    "WORD_2_VEC = 'word2vec.pkl'\n",
    "WORD_2_VEC_GOOGLE = 'word2vec_google.pkl'\n",
    "WORD_2_VEC_SVM = 'word2vec_svm.pkl'\n",
    "LOGISTIC_REGRESSION = 'logistic_regression.pkl'\n",
    "LOGISTIC_REGRESSION_FEATURES = 'logistic_regression_feature.pkl'"
   ]
  },
  {
   "cell_type": "code",
   "execution_count": 55,
   "metadata": {
    "collapsed": true
   },
   "outputs": [],
   "source": [
    "from validation.nested_k_fold import NestedKFoldValidation\n",
    "from validation.k_fold import KFoldValidation\n",
    "from metrics.standard_metrics import StandardMetrics\n",
    "from metrics.metrics_map import MetricsMap\n",
    "from sklearn.preprocessing import StandardScaler\n",
    "from sklearn.decomposition import PCA\n",
    "from sklearn.feature_selection import chi2, SelectKBest"
   ]
  },
  {
   "cell_type": "markdown",
   "metadata": {},
   "source": [
    "## 1. SVM evaluation"
   ]
  },
  {
   "cell_type": "markdown",
   "metadata": {},
   "source": [
    "### 1.1. SVM with linear kernel"
   ]
  },
  {
   "cell_type": "code",
   "execution_count": 14,
   "metadata": {
    "collapsed": true
   },
   "outputs": [],
   "source": [
    "from systems.simple_system import SimpleEvaluation\n"
   ]
  },
  {
   "cell_type": "code",
   "execution_count": 18,
   "metadata": {
    "collapsed": true
   },
   "outputs": [],
   "source": [
    "se = SimpleEvaluation() # Linear svm is default classifier\n",
    "nkf = NestedKFoldValidation(param_grid=se.default_svm_get_param_grid(), random_state=42)\n",
    "sm = StandardMetrics()\n",
    "mm = MetricsMap()\n"
   ]
  },
  {
   "cell_type": "code",
   "execution_count": 27,
   "metadata": {},
   "outputs": [
    {
     "name": "stderr",
     "output_type": "stream",
     "text": [
      "0%  100%\n",
      "[#####] | ETA: 00:00:00\n",
      "Total time elapsed: 00:04:16\n"
     ]
    }
   ],
   "source": [
    "mm.evaluate(dataset, se, nkf, BOTH)"
   ]
  },
  {
   "cell_type": "code",
   "execution_count": 28,
   "metadata": {},
   "outputs": [
    {
     "name": "stderr",
     "output_type": "stream",
     "text": [
      "0%  100%\n",
      "[#####] | ETA: 00:00:00\n",
      "Total time elapsed: 00:02:23\n"
     ]
    }
   ],
   "source": [
    "mm.evaluate(dataset, se, nkf, AGE_ONLY)"
   ]
  },
  {
   "cell_type": "code",
   "execution_count": 29,
   "metadata": {},
   "outputs": [
    {
     "name": "stderr",
     "output_type": "stream",
     "text": [
      "0%  100%\n",
      "[#####] | ETA: 00:00:00\n",
      "Total time elapsed: 00:00:45\n"
     ]
    }
   ],
   "source": [
    "mm.evaluate(dataset, se, nkf, GENDER_ONLY)"
   ]
  },
  {
   "cell_type": "code",
   "execution_count": 30,
   "metadata": {},
   "outputs": [
    {
     "data": {
      "text/html": [
       "<div>\n",
       "<table border=\"1\" class=\"dataframe\">\n",
       "  <thead>\n",
       "    <tr style=\"text-align: right;\">\n",
       "      <th></th>\n",
       "      <th>Accuracy</th>\n",
       "      <th>Precision</th>\n",
       "      <th>Recall</th>\n",
       "      <th>F1-Score</th>\n",
       "    </tr>\n",
       "  </thead>\n",
       "  <tbody>\n",
       "    <tr>\n",
       "      <th>gender</th>\n",
       "      <td>0.718340</td>\n",
       "      <td>0.718447</td>\n",
       "      <td>0.718340</td>\n",
       "      <td>0.718303</td>\n",
       "    </tr>\n",
       "    <tr>\n",
       "      <th>both</th>\n",
       "      <td>0.326105</td>\n",
       "      <td>0.231609</td>\n",
       "      <td>0.207512</td>\n",
       "      <td>0.199005</td>\n",
       "    </tr>\n",
       "    <tr>\n",
       "      <th>age</th>\n",
       "      <td>0.486229</td>\n",
       "      <td>0.242697</td>\n",
       "      <td>0.262694</td>\n",
       "      <td>0.235315</td>\n",
       "    </tr>\n",
       "  </tbody>\n",
       "</table>\n",
       "</div>"
      ],
      "text/plain": [
       "        Accuracy  Precision    Recall  F1-Score\n",
       "gender  0.718340   0.718447  0.718340  0.718303\n",
       "both    0.326105   0.231609  0.207512  0.199005\n",
       "age     0.486229   0.242697  0.262694  0.235315"
      ]
     },
     "execution_count": 30,
     "metadata": {},
     "output_type": "execute_result"
    }
   ],
   "source": [
    "mm.save_map(SVM_LINEAR)\n",
    "sm.show_result(mm)"
   ]
  },
  {
   "cell_type": "markdown",
   "metadata": {},
   "source": [
    "### 1.2. SVM with linear kernel and additional features"
   ]
  },
  {
   "cell_type": "code",
   "execution_count": 31,
   "metadata": {
    "collapsed": true
   },
   "outputs": [],
   "source": [
    "se = SimpleEvaluation() # Linear svm is default classifier\n",
    "sm = StandardMetrics()\n",
    "mm = MetricsMap()\n",
    "features = se.default_feature_set()"
   ]
  },
  {
   "cell_type": "code",
   "execution_count": 32,
   "metadata": {},
   "outputs": [
    {
     "name": "stderr",
     "output_type": "stream",
     "text": [
      "0%  100%\n",
      "[#####] | ETA: 00:00:00\n",
      "Total time elapsed: 00:04:43\n"
     ]
    }
   ],
   "source": [
    "mm.evaluate(dataset, se, nkf, BOTH, additional_features=features)"
   ]
  },
  {
   "cell_type": "code",
   "execution_count": 33,
   "metadata": {},
   "outputs": [
    {
     "name": "stderr",
     "output_type": "stream",
     "text": [
      "0%  100%\n",
      "[#####] | ETA: 00:00:00\n",
      "Total time elapsed: 00:03:08\n"
     ]
    }
   ],
   "source": [
    "mm.evaluate(dataset, se, nkf, AGE_ONLY, additional_features=features)"
   ]
  },
  {
   "cell_type": "code",
   "execution_count": 34,
   "metadata": {},
   "outputs": [
    {
     "name": "stderr",
     "output_type": "stream",
     "text": [
      "0%  100%\n",
      "[#####] | ETA: 00:00:00\n",
      "Total time elapsed: 00:00:55\n"
     ]
    }
   ],
   "source": [
    "mm.evaluate(dataset, se, nkf, GENDER_ONLY, additional_features=features)"
   ]
  },
  {
   "cell_type": "code",
   "execution_count": 35,
   "metadata": {},
   "outputs": [
    {
     "data": {
      "text/html": [
       "<div>\n",
       "<table border=\"1\" class=\"dataframe\">\n",
       "  <thead>\n",
       "    <tr style=\"text-align: right;\">\n",
       "      <th></th>\n",
       "      <th>Accuracy</th>\n",
       "      <th>Precision</th>\n",
       "      <th>Recall</th>\n",
       "      <th>F1-Score</th>\n",
       "    </tr>\n",
       "  </thead>\n",
       "  <tbody>\n",
       "    <tr>\n",
       "      <th>gender</th>\n",
       "      <td>0.720507</td>\n",
       "      <td>0.721251</td>\n",
       "      <td>0.720507</td>\n",
       "      <td>0.720144</td>\n",
       "    </tr>\n",
       "    <tr>\n",
       "      <th>both</th>\n",
       "      <td>0.332560</td>\n",
       "      <td>0.269363</td>\n",
       "      <td>0.216314</td>\n",
       "      <td>0.214065</td>\n",
       "    </tr>\n",
       "    <tr>\n",
       "      <th>age</th>\n",
       "      <td>0.497700</td>\n",
       "      <td>0.273523</td>\n",
       "      <td>0.276205</td>\n",
       "      <td>0.257404</td>\n",
       "    </tr>\n",
       "  </tbody>\n",
       "</table>\n",
       "</div>"
      ],
      "text/plain": [
       "        Accuracy  Precision    Recall  F1-Score\n",
       "gender  0.720507   0.721251  0.720507  0.720144\n",
       "both    0.332560   0.269363  0.216314  0.214065\n",
       "age     0.497700   0.273523  0.276205  0.257404"
      ]
     },
     "execution_count": 35,
     "metadata": {},
     "output_type": "execute_result"
    }
   ],
   "source": [
    "mm.save_map(SVM_LINEAR_FEATURES)\n",
    "sm.show_result(mm)"
   ]
  },
  {
   "cell_type": "markdown",
   "metadata": {},
   "source": [
    "### 1.3 SVM with StandardScaler and PCA"
   ]
  },
  {
   "cell_type": "code",
   "execution_count": 19,
   "metadata": {
    "collapsed": true
   },
   "outputs": [],
   "source": [
    "se = SimpleEvaluation() # Linear svm is default classifier\n",
    "sm = StandardMetrics()\n",
    "mm = MetricsMap()\n",
    "std_scaler = StandardScaler()\n",
    "pca = PCA(n_components=2)"
   ]
  },
  {
   "cell_type": "code",
   "execution_count": 20,
   "metadata": {},
   "outputs": [
    {
     "name": "stderr",
     "output_type": "stream",
     "text": [
      "0%  100%\n",
      "[#####] | ETA: 00:00:00\n",
      "Total time elapsed: 00:15:29\n"
     ]
    }
   ],
   "source": [
    "mm.evaluate(dataset, se, nkf, BOTH, scl=std_scaler, pca=pca)"
   ]
  },
  {
   "cell_type": "code",
   "execution_count": 22,
   "metadata": {},
   "outputs": [
    {
     "name": "stderr",
     "output_type": "stream",
     "text": [
      "0%  100%\n",
      "[#####] | ETA: 00:00:00\n",
      "Total time elapsed: 00:15:01\n"
     ]
    }
   ],
   "source": [
    "mm.evaluate(dataset, se, nkf, AGE_ONLY, scl=std_scaler, pca=pca)"
   ]
  },
  {
   "cell_type": "code",
   "execution_count": 23,
   "metadata": {},
   "outputs": [
    {
     "name": "stderr",
     "output_type": "stream",
     "text": [
      "0%  100%\n",
      "[#####] | ETA: 00:00:00\n",
      "Total time elapsed: 00:13:34\n"
     ]
    }
   ],
   "source": [
    "mm.evaluate(dataset, se, nkf, GENDER_ONLY, scl=std_scaler, pca=pca)"
   ]
  },
  {
   "cell_type": "code",
   "execution_count": 24,
   "metadata": {},
   "outputs": [
    {
     "data": {
      "text/html": [
       "<div>\n",
       "<table border=\"1\" class=\"dataframe\">\n",
       "  <thead>\n",
       "    <tr style=\"text-align: right;\">\n",
       "      <th></th>\n",
       "      <th>Accuracy</th>\n",
       "      <th>Precision</th>\n",
       "      <th>Recall</th>\n",
       "      <th>F1-Score</th>\n",
       "    </tr>\n",
       "  </thead>\n",
       "  <tbody>\n",
       "    <tr>\n",
       "      <th>gender</th>\n",
       "      <td>0.516279</td>\n",
       "      <td>0.478848</td>\n",
       "      <td>0.516279</td>\n",
       "      <td>0.403737</td>\n",
       "    </tr>\n",
       "    <tr>\n",
       "      <th>both</th>\n",
       "      <td>0.199552</td>\n",
       "      <td>0.040204</td>\n",
       "      <td>0.105752</td>\n",
       "      <td>0.050550</td>\n",
       "    </tr>\n",
       "    <tr>\n",
       "      <th>age</th>\n",
       "      <td>0.410539</td>\n",
       "      <td>0.083444</td>\n",
       "      <td>0.196697</td>\n",
       "      <td>0.117170</td>\n",
       "    </tr>\n",
       "  </tbody>\n",
       "</table>\n",
       "</div>"
      ],
      "text/plain": [
       "        Accuracy  Precision    Recall  F1-Score\n",
       "gender  0.516279   0.478848  0.516279  0.403737\n",
       "both    0.199552   0.040204  0.105752  0.050550\n",
       "age     0.410539   0.083444  0.196697  0.117170"
      ]
     },
     "execution_count": 24,
     "metadata": {},
     "output_type": "execute_result"
    }
   ],
   "source": [
    "mm.save_map(SVM_LINEAR_SCALED_PCA)\n",
    "sm.show_result(mm)"
   ]
  },
  {
   "cell_type": "markdown",
   "metadata": {},
   "source": [
    "### 1.4. SVM with linear kernel, additional features and chi2 reduction"
   ]
  },
  {
   "cell_type": "code",
   "execution_count": 58,
   "metadata": {},
   "outputs": [],
   "source": [
    "se = SimpleEvaluation() # Linear svm is default classifier\n",
    "sm = StandardMetrics()\n",
    "mm = MetricsMap()\n",
    "\n",
    "\n",
    "N_FEATURES_OPTIONS = [2, 4, 8]\n",
    "C_OPTIONS =  list(map(lambda x: 2 ** x, range(-5, 5)))\n",
    "param_grid = {\n",
    "        'pca': [SelectKBest(chi2)],\n",
    "        'pca__k': N_FEATURES_OPTIONS,\n",
    "        'svc__C': C_OPTIONS\n",
    "    }\n",
    "\n",
    "nkf = NestedKFoldValidation(param_grid=param_grid)\n",
    "features = SimpleEvaluation.default_feature_set()"
   ]
  },
  {
   "cell_type": "code",
   "execution_count": 59,
   "metadata": {},
   "outputs": [
    {
     "name": "stderr",
     "output_type": "stream",
     "text": [
      "0%  100%\n",
      "[#####] | ETA: 00:00:00\n",
      "Total time elapsed: 00:19:07\n"
     ]
    }
   ],
   "source": [
    "mm.evaluate(dataset, se, nkf, BOTH, additional_features=features, pca=PCA())"
   ]
  },
  {
   "cell_type": "code",
   "execution_count": 60,
   "metadata": {},
   "outputs": [
    {
     "name": "stderr",
     "output_type": "stream",
     "text": [
      "0%  100%\n",
      "[#####] | ETA: 00:00:00\n",
      "Total time elapsed: 00:18:49\n"
     ]
    }
   ],
   "source": [
    "mm.evaluate(dataset, se, nkf, AGE_ONLY, additional_features=features, pca=PCA())"
   ]
  },
  {
   "cell_type": "code",
   "execution_count": 61,
   "metadata": {},
   "outputs": [
    {
     "name": "stderr",
     "output_type": "stream",
     "text": [
      "0%  100%\n",
      "[#####] | ETA: 00:00:00\n",
      "Total time elapsed: 00:29:07\n"
     ]
    }
   ],
   "source": [
    "mm.evaluate(dataset, se, nkf, GENDER_ONLY, additional_features=features, pca=PCA())"
   ]
  },
  {
   "cell_type": "code",
   "execution_count": 62,
   "metadata": {},
   "outputs": [
    {
     "data": {
      "text/html": [
       "<div>\n",
       "<table border=\"1\" class=\"dataframe\">\n",
       "  <thead>\n",
       "    <tr style=\"text-align: right;\">\n",
       "      <th></th>\n",
       "      <th>Accuracy</th>\n",
       "      <th>Precision</th>\n",
       "      <th>Recall</th>\n",
       "      <th>F1-Score</th>\n",
       "    </tr>\n",
       "  </thead>\n",
       "  <tbody>\n",
       "    <tr>\n",
       "      <th>gender</th>\n",
       "      <td>0.633034</td>\n",
       "      <td>0.634692</td>\n",
       "      <td>0.633034</td>\n",
       "      <td>0.631874</td>\n",
       "    </tr>\n",
       "    <tr>\n",
       "      <th>both</th>\n",
       "      <td>0.220069</td>\n",
       "      <td>0.037705</td>\n",
       "      <td>0.115278</td>\n",
       "      <td>0.047841</td>\n",
       "    </tr>\n",
       "    <tr>\n",
       "      <th>age</th>\n",
       "      <td>0.415112</td>\n",
       "      <td>0.083214</td>\n",
       "      <td>0.198889</td>\n",
       "      <td>0.117334</td>\n",
       "    </tr>\n",
       "  </tbody>\n",
       "</table>\n",
       "</div>"
      ],
      "text/plain": [
       "        Accuracy  Precision    Recall  F1-Score\n",
       "gender  0.633034   0.634692  0.633034  0.631874\n",
       "both    0.220069   0.037705  0.115278  0.047841\n",
       "age     0.415112   0.083214  0.198889  0.117334"
      ]
     },
     "execution_count": 62,
     "metadata": {},
     "output_type": "execute_result"
    }
   ],
   "source": [
    "mm.save_map(SVM_LINEAR_FEATURES_CHI2)\n",
    "sm.show_result(mm)"
   ]
  },
  {
   "cell_type": "markdown",
   "metadata": {},
   "source": [
    "## 2. Stacking\n"
   ]
  },
  {
   "cell_type": "markdown",
   "metadata": {},
   "source": [
    "### 2. 1 Stacking default\n",
    "* Gender: (Bayes logistic regression, Naive Bayes Multinomial, Naive Bayers, Linear SVM) -> meta: Naive Bayes\n",
    "\n",
    "* Age: (Naive Bayes Multinomial, Simple logistics, Naive Bayes, LinearSVM) -> meta: Linear SVM"
   ]
  },
  {
   "cell_type": "code",
   "execution_count": 5,
   "metadata": {
    "collapsed": true
   },
   "outputs": [],
   "source": [
    "from systems.stacking_system import StackingEvaluation\n",
    "from reduction.inform_gain_old import InformationGainOld"
   ]
  },
  {
   "cell_type": "code",
   "execution_count": 6,
   "metadata": {
    "collapsed": true
   },
   "outputs": [],
   "source": [
    "sc = StackingEvaluation()\n",
    "kf = KFoldValidation(random_state=42)\n",
    "sm = StandardMetrics()\n",
    "mm = MetricsMap()\n",
    "\n",
    "igo = sc.default_information_gain_reduce()"
   ]
  },
  {
   "cell_type": "code",
   "execution_count": 7,
   "metadata": {},
   "outputs": [
    {
     "name": "stderr",
     "output_type": "stream",
     "text": [
      "0%                          100%\n",
      "0%  100%\n",
      "[#####] | ETA: 00:00:00\n",
      "Total time elapsed: 00:14:11\n"
     ]
    }
   ],
   "source": [
    "mm.evaluate(dataset, sc, kf, BOTH, reduction=igo)"
   ]
  },
  {
   "cell_type": "code",
   "execution_count": 8,
   "metadata": {},
   "outputs": [
    {
     "name": "stderr",
     "output_type": "stream",
     "text": [
      "0%                          100%\n",
      "0%  100%\n",
      "[#####] | ETA: 00:00:00\n",
      "Total time elapsed: 00:00:24\n"
     ]
    }
   ],
   "source": [
    "mm.evaluate(dataset, sc, kf, AGE_ONLY, reduction=igo)"
   ]
  },
  {
   "cell_type": "code",
   "execution_count": 9,
   "metadata": {},
   "outputs": [
    {
     "name": "stderr",
     "output_type": "stream",
     "text": [
      "0%                          100%\n",
      "[##                            ] | ETA: 00:40:250%  100%\n",
      "[#####] | ETA: 00:00:00\n",
      "Total time elapsed: 00:11:38\n"
     ]
    }
   ],
   "source": [
    "mm.evaluate(dataset, sc, kf, GENDER_ONLY, reduction=igo)"
   ]
  },
  {
   "cell_type": "code",
   "execution_count": 10,
   "metadata": {},
   "outputs": [
    {
     "data": {
      "text/html": [
       "<div>\n",
       "<table border=\"1\" class=\"dataframe\">\n",
       "  <thead>\n",
       "    <tr style=\"text-align: right;\">\n",
       "      <th></th>\n",
       "      <th>Accuracy</th>\n",
       "      <th>Precision</th>\n",
       "      <th>Recall</th>\n",
       "      <th>F1-Score</th>\n",
       "    </tr>\n",
       "  </thead>\n",
       "  <tbody>\n",
       "    <tr>\n",
       "      <th>gender</th>\n",
       "      <td>0.768605</td>\n",
       "      <td>0.769578</td>\n",
       "      <td>0.768605</td>\n",
       "      <td>0.768383</td>\n",
       "    </tr>\n",
       "    <tr>\n",
       "      <th>both</th>\n",
       "      <td>0.208917</td>\n",
       "      <td>0.054522</td>\n",
       "      <td>0.118845</td>\n",
       "      <td>0.067622</td>\n",
       "    </tr>\n",
       "    <tr>\n",
       "      <th>age</th>\n",
       "      <td>0.488764</td>\n",
       "      <td>0.270331</td>\n",
       "      <td>0.261552</td>\n",
       "      <td>0.238127</td>\n",
       "    </tr>\n",
       "  </tbody>\n",
       "</table>\n",
       "</div>"
      ],
      "text/plain": [
       "        Accuracy  Precision    Recall  F1-Score\n",
       "gender  0.768605   0.769578  0.768605  0.768383\n",
       "both    0.208917   0.054522  0.118845  0.067622\n",
       "age     0.488764   0.270331  0.261552  0.238127"
      ]
     },
     "execution_count": 10,
     "metadata": {},
     "output_type": "execute_result"
    }
   ],
   "source": [
    "mm.evaluate(dataset, sc, )\n",
    "sm.show_result(mm)"
   ]
  },
  {
   "cell_type": "markdown",
   "metadata": {},
   "source": [
    "## 3. Word2Vec"
   ]
  },
  {
   "cell_type": "markdown",
   "metadata": {},
   "source": [
    "### 3.1. Word2Vec simple\n",
    "* with words from dataset"
   ]
  },
  {
   "cell_type": "code",
   "execution_count": 6,
   "metadata": {
    "collapsed": true
   },
   "outputs": [],
   "source": [
    "from systems.word2vec_system import Word2VecEvaluation"
   ]
  },
  {
   "cell_type": "code",
   "execution_count": 7,
   "metadata": {
    "collapsed": true
   },
   "outputs": [],
   "source": [
    "w2v = Word2VecEvaluation()\n",
    "kf = KFoldValidation(random_state=42)\n",
    "sm = StandardMetrics()\n",
    "mm = MetricsMap()"
   ]
  },
  {
   "cell_type": "code",
   "execution_count": 8,
   "metadata": {},
   "outputs": [
    {
     "name": "stdout",
     "output_type": "stream",
     "text": [
      "Ucitao model\n",
      "w2v\n"
     ]
    },
    {
     "name": "stderr",
     "output_type": "stream",
     "text": [
      "0%  100%\n",
      "[#####] | ETA: 00:00:00\n",
      "Total time elapsed: 00:00:01\n"
     ]
    }
   ],
   "source": [
    "mm.evaluate(dataset, w2v, kf, BOTH)"
   ]
  },
  {
   "cell_type": "code",
   "execution_count": 9,
   "metadata": {},
   "outputs": [
    {
     "name": "stdout",
     "output_type": "stream",
     "text": [
      "Ucitao model\n",
      "w2v\n"
     ]
    },
    {
     "name": "stderr",
     "output_type": "stream",
     "text": [
      "0%  100%\n",
      "[#####] | ETA: 00:00:00\n",
      "Total time elapsed: 00:00:01\n"
     ]
    }
   ],
   "source": [
    "mm.evaluate(dataset, w2v, kf, AGE_ONLY)"
   ]
  },
  {
   "cell_type": "code",
   "execution_count": 10,
   "metadata": {},
   "outputs": [
    {
     "name": "stdout",
     "output_type": "stream",
     "text": [
      "Ucitao model\n",
      "w2v\n"
     ]
    },
    {
     "name": "stderr",
     "output_type": "stream",
     "text": [
      "0%  100%\n",
      "[#####] | ETA: 00:00:00\n",
      "Total time elapsed: 00:00:01\n"
     ]
    }
   ],
   "source": [
    "mm.evaluate(dataset, w2v, kf, GENDER_ONLY)"
   ]
  },
  {
   "cell_type": "code",
   "execution_count": 11,
   "metadata": {},
   "outputs": [
    {
     "data": {
      "text/html": [
       "<div>\n",
       "<table border=\"1\" class=\"dataframe\">\n",
       "  <thead>\n",
       "    <tr style=\"text-align: right;\">\n",
       "      <th></th>\n",
       "      <th>Accuracy</th>\n",
       "      <th>Precision</th>\n",
       "      <th>Recall</th>\n",
       "      <th>F1-Score</th>\n",
       "    </tr>\n",
       "  </thead>\n",
       "  <tbody>\n",
       "    <tr>\n",
       "      <th>gender</th>\n",
       "      <td>0.674841</td>\n",
       "      <td>0.675605</td>\n",
       "      <td>0.674841</td>\n",
       "      <td>0.674463</td>\n",
       "    </tr>\n",
       "    <tr>\n",
       "      <th>both</th>\n",
       "      <td>0.259843</td>\n",
       "      <td>0.165200</td>\n",
       "      <td>0.166609</td>\n",
       "      <td>0.154781</td>\n",
       "    </tr>\n",
       "    <tr>\n",
       "      <th>age</th>\n",
       "      <td>0.401477</td>\n",
       "      <td>0.206138</td>\n",
       "      <td>0.216316</td>\n",
       "      <td>0.198811</td>\n",
       "    </tr>\n",
       "  </tbody>\n",
       "</table>\n",
       "</div>"
      ],
      "text/plain": [
       "        Accuracy  Precision    Recall  F1-Score\n",
       "gender  0.674841   0.675605  0.674841  0.674463\n",
       "both    0.259843   0.165200  0.166609  0.154781\n",
       "age     0.401477   0.206138  0.216316  0.198811"
      ]
     },
     "execution_count": 11,
     "metadata": {},
     "output_type": "execute_result"
    }
   ],
   "source": [
    "mm.save_map(WORD_2_VEC)\n",
    "sm.show_result(mm)"
   ]
  },
  {
   "cell_type": "markdown",
   "metadata": {},
   "source": [
    "### 3.2. Word2Vec with google matrix\n"
   ]
  },
  {
   "cell_type": "code",
   "execution_count": 10,
   "metadata": {
    "collapsed": true
   },
   "outputs": [],
   "source": [
    "google_matrix = 'samo_treba_lokaciju_staviti_umjesto_ovoga_i_to_je_to' #http://mccormickml.com/2016/04/12/googles-pretrained-word2vec-model-in-python/\n",
    "pre_trained = ('google', google_matrix) # <-- Ime(prvi clan tuplea) moze biti bilo koje, to sluzi samo da spremi istrenirani model u konacnici"
   ]
  },
  {
   "cell_type": "code",
   "execution_count": null,
   "metadata": {
    "collapsed": true
   },
   "outputs": [],
   "source": [
    "w2v = Word2VecEvaluation()\n",
    "kf = KFoldValidation(random_state=42)\n",
    "sm = StandardMetrics()\n",
    "mm = MetricsMap()"
   ]
  },
  {
   "cell_type": "code",
   "execution_count": null,
   "metadata": {
    "collapsed": true
   },
   "outputs": [],
   "source": [
    "mm.evaluate(dataset, w2v, kf, BOTH)"
   ]
  },
  {
   "cell_type": "code",
   "execution_count": null,
   "metadata": {
    "collapsed": true
   },
   "outputs": [],
   "source": [
    "mm.evaluate(dataset, w2v, kf, AGE_ONLY)"
   ]
  },
  {
   "cell_type": "code",
   "execution_count": null,
   "metadata": {
    "collapsed": true
   },
   "outputs": [],
   "source": [
    "mm.evaluate(dataset, w2v, kf, GENDER_ONLY)"
   ]
  },
  {
   "cell_type": "code",
   "execution_count": null,
   "metadata": {
    "collapsed": true
   },
   "outputs": [],
   "source": [
    "mm.save_map(WORD_2_VEC_GOOGLE)\n",
    "sm.show_result(mm)"
   ]
  },
  {
   "cell_type": "markdown",
   "metadata": {},
   "source": [
    "### 3.3. Word2Vec with SVM"
   ]
  },
  {
   "cell_type": "code",
   "execution_count": 19,
   "metadata": {
    "collapsed": true
   },
   "outputs": [],
   "source": [
    "from sklearn.svm import LinearSVC"
   ]
  },
  {
   "cell_type": "code",
   "execution_count": 20,
   "metadata": {
    "collapsed": true
   },
   "outputs": [],
   "source": [
    "w2v = Word2VecEvaluation(clf=('svc', LinearSVC()))\n",
    "kf = KFoldValidation(random_state=42)\n",
    "sm = StandardMetrics()\n",
    "mm = MetricsMap()"
   ]
  },
  {
   "cell_type": "code",
   "execution_count": 21,
   "metadata": {},
   "outputs": [
    {
     "name": "stdout",
     "output_type": "stream",
     "text": [
      "Ucitao model\n",
      "w2v\n"
     ]
    },
    {
     "name": "stderr",
     "output_type": "stream",
     "text": [
      "0%  100%\n",
      "[#####] | ETA: 00:00:00\n",
      "Total time elapsed: 00:00:03\n"
     ]
    }
   ],
   "source": [
    "mm.evaluate(dataset, w2v, kf, BOTH)"
   ]
  },
  {
   "cell_type": "code",
   "execution_count": 22,
   "metadata": {},
   "outputs": [
    {
     "name": "stdout",
     "output_type": "stream",
     "text": [
      "Ucitao model\n",
      "w2v\n"
     ]
    },
    {
     "name": "stderr",
     "output_type": "stream",
     "text": [
      "0%  100%\n",
      "[#####] | ETA: 00:00:00\n",
      "Total time elapsed: 00:00:01\n"
     ]
    }
   ],
   "source": [
    "mm.evaluate(dataset, w2v, kf, AGE_ONLY)"
   ]
  },
  {
   "cell_type": "code",
   "execution_count": 23,
   "metadata": {},
   "outputs": [
    {
     "name": "stdout",
     "output_type": "stream",
     "text": [
      "Ucitao model\n",
      "w2v\n"
     ]
    },
    {
     "name": "stderr",
     "output_type": "stream",
     "text": [
      "0%  100%\n",
      "[#####] | ETA: 00:00:00\n",
      "Total time elapsed: 00:00:00\n"
     ]
    }
   ],
   "source": [
    "mm.evaluate(dataset, w2v, kf, GENDER_ONLY)"
   ]
  },
  {
   "cell_type": "code",
   "execution_count": 24,
   "metadata": {},
   "outputs": [
    {
     "data": {
      "text/html": [
       "<div>\n",
       "<table border=\"1\" class=\"dataframe\">\n",
       "  <thead>\n",
       "    <tr style=\"text-align: right;\">\n",
       "      <th></th>\n",
       "      <th>Accuracy</th>\n",
       "      <th>Precision</th>\n",
       "      <th>Recall</th>\n",
       "      <th>F1-Score</th>\n",
       "    </tr>\n",
       "  </thead>\n",
       "  <tbody>\n",
       "    <tr>\n",
       "      <th>gender</th>\n",
       "      <td>0.665539</td>\n",
       "      <td>0.669232</td>\n",
       "      <td>0.665539</td>\n",
       "      <td>0.664379</td>\n",
       "    </tr>\n",
       "    <tr>\n",
       "      <th>both</th>\n",
       "      <td>0.275278</td>\n",
       "      <td>0.155367</td>\n",
       "      <td>0.163509</td>\n",
       "      <td>0.145437</td>\n",
       "    </tr>\n",
       "    <tr>\n",
       "      <th>age</th>\n",
       "      <td>0.444688</td>\n",
       "      <td>0.234982</td>\n",
       "      <td>0.239668</td>\n",
       "      <td>0.219333</td>\n",
       "    </tr>\n",
       "  </tbody>\n",
       "</table>\n",
       "</div>"
      ],
      "text/plain": [
       "        Accuracy  Precision    Recall  F1-Score\n",
       "gender  0.665539   0.669232  0.665539  0.664379\n",
       "both    0.275278   0.155367  0.163509  0.145437\n",
       "age     0.444688   0.234982  0.239668  0.219333"
      ]
     },
     "execution_count": 24,
     "metadata": {},
     "output_type": "execute_result"
    }
   ],
   "source": [
    "mm.save_map(WORD_2_VEC_SVM)\n",
    "sm.show_result(mm)"
   ]
  },
  {
   "cell_type": "markdown",
   "metadata": {},
   "source": [
    "## 4. Logistic regression"
   ]
  },
  {
   "cell_type": "markdown",
   "metadata": {},
   "source": [
    "### 4.1. Logistic regression with parameters:\n",
    "\n",
    "* C = 100.00\n",
    "* regularization = L2"
   ]
  },
  {
   "cell_type": "code",
   "execution_count": 30,
   "metadata": {
    "collapsed": true
   },
   "outputs": [],
   "source": [
    "from systems.simple_system import SimpleEvaluation\n",
    "from sklearn.linear_model import LogisticRegression\n",
    "from validation.k_fold import KFoldValidation"
   ]
  },
  {
   "cell_type": "code",
   "execution_count": 31,
   "metadata": {
    "collapsed": true
   },
   "outputs": [],
   "source": [
    "clf = LogisticRegression()\n",
    "se = SimpleEvaluation(clf=('clf', LogisticRegression(penalty='l2', random_state=42, C=100.0))) \n",
    "\n",
    "kf = KFoldValidation(random_state=42)\n",
    "sm = StandardMetrics()\n",
    "mm = MetricsMap()"
   ]
  },
  {
   "cell_type": "code",
   "execution_count": 32,
   "metadata": {},
   "outputs": [
    {
     "name": "stderr",
     "output_type": "stream",
     "text": [
      "0%  100%\n",
      "[#####] | ETA: 00:00:00\n",
      "Total time elapsed: 00:00:20\n"
     ]
    }
   ],
   "source": [
    "mm.evaluate(dataset, se, kf, BOTH)"
   ]
  },
  {
   "cell_type": "code",
   "execution_count": 33,
   "metadata": {},
   "outputs": [
    {
     "name": "stderr",
     "output_type": "stream",
     "text": [
      "0%  100%\n",
      "[#####] | ETA: 00:00:00\n",
      "Total time elapsed: 00:00:10\n"
     ]
    }
   ],
   "source": [
    "mm.evaluate(dataset, se, kf, AGE_ONLY)"
   ]
  },
  {
   "cell_type": "code",
   "execution_count": 34,
   "metadata": {},
   "outputs": [
    {
     "name": "stderr",
     "output_type": "stream",
     "text": [
      "0%  100%\n",
      "[#####] | ETA: 00:00:00\n",
      "Total time elapsed: 00:00:03\n"
     ]
    }
   ],
   "source": [
    "mm.evaluate(dataset, se, kf, GENDER_ONLY)"
   ]
  },
  {
   "cell_type": "code",
   "execution_count": 35,
   "metadata": {
    "scrolled": true
   },
   "outputs": [
    {
     "data": {
      "text/html": [
       "<div>\n",
       "<table border=\"1\" class=\"dataframe\">\n",
       "  <thead>\n",
       "    <tr style=\"text-align: right;\">\n",
       "      <th></th>\n",
       "      <th>Accuracy</th>\n",
       "      <th>Precision</th>\n",
       "      <th>Recall</th>\n",
       "      <th>F1-Score</th>\n",
       "    </tr>\n",
       "  </thead>\n",
       "  <tbody>\n",
       "    <tr>\n",
       "      <th>gender</th>\n",
       "      <td>0.713848</td>\n",
       "      <td>0.713923</td>\n",
       "      <td>0.713848</td>\n",
       "      <td>0.713827</td>\n",
       "    </tr>\n",
       "    <tr>\n",
       "      <th>both</th>\n",
       "      <td>0.324041</td>\n",
       "      <td>0.239563</td>\n",
       "      <td>0.210068</td>\n",
       "      <td>0.204889</td>\n",
       "    </tr>\n",
       "    <tr>\n",
       "      <th>age</th>\n",
       "      <td>0.479411</td>\n",
       "      <td>0.254601</td>\n",
       "      <td>0.263618</td>\n",
       "      <td>0.243766</td>\n",
       "    </tr>\n",
       "  </tbody>\n",
       "</table>\n",
       "</div>"
      ],
      "text/plain": [
       "        Accuracy  Precision    Recall  F1-Score\n",
       "gender  0.713848   0.713923  0.713848  0.713827\n",
       "both    0.324041   0.239563  0.210068  0.204889\n",
       "age     0.479411   0.254601  0.263618  0.243766"
      ]
     },
     "execution_count": 35,
     "metadata": {},
     "output_type": "execute_result"
    }
   ],
   "source": [
    "mm.save_map(LOGISTIC_REGRESSION)\n",
    "sm.show_result(mm)"
   ]
  },
  {
   "cell_type": "markdown",
   "metadata": {},
   "source": [
    "### 4. 2. Logistic regession with:\n",
    "* additional features\n",
    "* param grid"
   ]
  },
  {
   "cell_type": "code",
   "execution_count": 40,
   "metadata": {
    "collapsed": true
   },
   "outputs": [],
   "source": [
    "from systems.simple_system import SimpleEvaluation\n",
    "from sklearn.linear_model import LogisticRegression\n",
    "from validation.nested_k_fold import NestedKFoldValidation"
   ]
  },
  {
   "cell_type": "code",
   "execution_count": 43,
   "metadata": {
    "collapsed": true
   },
   "outputs": [],
   "source": [
    "clf = LogisticRegression()\n",
    "param_grid = {'clf__C': [0.001, 0.01, 0.1, 1, 10, 100, 1000] }\n",
    "se = SimpleEvaluation(clf=('clf', LogisticRegression(penalty='l2', random_state=42))) \n",
    "\n",
    "kf = NestedKFoldValidation(param_grid=param_grid ,random_state=42)\n",
    "sm = StandardMetrics()\n",
    "mm = MetricsMap()\n",
    "\n",
    "features = SimpleEvaluation.default_feature_set()"
   ]
  },
  {
   "cell_type": "code",
   "execution_count": 44,
   "metadata": {},
   "outputs": [
    {
     "name": "stderr",
     "output_type": "stream",
     "text": [
      "0%  100%\n",
      "[#####] | ETA: 00:00:00\n",
      "Total time elapsed: 00:03:46\n"
     ]
    }
   ],
   "source": [
    "mm.evaluate(dataset, se, kf, BOTH, additional_features=features)"
   ]
  },
  {
   "cell_type": "code",
   "execution_count": 45,
   "metadata": {},
   "outputs": [
    {
     "name": "stderr",
     "output_type": "stream",
     "text": [
      "0%  100%\n",
      "[#####] | ETA: 00:00:00\n",
      "Total time elapsed: 00:01:45\n"
     ]
    }
   ],
   "source": [
    "mm.evaluate(dataset, se, kf, AGE_ONLY, additional_features=features)"
   ]
  },
  {
   "cell_type": "code",
   "execution_count": 48,
   "metadata": {},
   "outputs": [
    {
     "name": "stderr",
     "output_type": "stream",
     "text": [
      "0%  100%\n",
      "[#####] | ETA: 00:00:00\n",
      "Total time elapsed: 00:00:30\n"
     ]
    }
   ],
   "source": [
    "mm.evaluate(dataset, se, kf, GENDER_ONLY, additional_features=features)"
   ]
  },
  {
   "cell_type": "code",
   "execution_count": 35,
   "metadata": {
    "scrolled": true
   },
   "outputs": [
    {
     "data": {
      "text/html": [
       "<div>\n",
       "<table border=\"1\" class=\"dataframe\">\n",
       "  <thead>\n",
       "    <tr style=\"text-align: right;\">\n",
       "      <th></th>\n",
       "      <th>Accuracy</th>\n",
       "      <th>Precision</th>\n",
       "      <th>Recall</th>\n",
       "      <th>F1-Score</th>\n",
       "    </tr>\n",
       "  </thead>\n",
       "  <tbody>\n",
       "    <tr>\n",
       "      <th>gender</th>\n",
       "      <td>0.713848</td>\n",
       "      <td>0.713923</td>\n",
       "      <td>0.713848</td>\n",
       "      <td>0.713827</td>\n",
       "    </tr>\n",
       "    <tr>\n",
       "      <th>both</th>\n",
       "      <td>0.324041</td>\n",
       "      <td>0.239563</td>\n",
       "      <td>0.210068</td>\n",
       "      <td>0.204889</td>\n",
       "    </tr>\n",
       "    <tr>\n",
       "      <th>age</th>\n",
       "      <td>0.479411</td>\n",
       "      <td>0.254601</td>\n",
       "      <td>0.263618</td>\n",
       "      <td>0.243766</td>\n",
       "    </tr>\n",
       "  </tbody>\n",
       "</table>\n",
       "</div>"
      ],
      "text/plain": [
       "        Accuracy  Precision    Recall  F1-Score\n",
       "gender  0.713848   0.713923  0.713848  0.713827\n",
       "both    0.324041   0.239563  0.210068  0.204889\n",
       "age     0.479411   0.254601  0.263618  0.243766"
      ]
     },
     "execution_count": 35,
     "metadata": {},
     "output_type": "execute_result"
    }
   ],
   "source": [
    "mm.save_map(LOGISTIC_REGRESSION)\n",
    "sm.show_result(mm)"
   ]
  }
 ],
 "metadata": {
  "kernelspec": {
   "display_name": "Python 3",
   "language": "python",
   "name": "python3"
  },
  "language_info": {
   "codemirror_mode": {
    "name": "ipython",
    "version": 3
   },
   "file_extension": ".py",
   "mimetype": "text/x-python",
   "name": "python",
   "nbconvert_exporter": "python",
   "pygments_lexer": "ipython3",
   "version": "3.5.2"
  }
 },
 "nbformat": 4,
 "nbformat_minor": 1
}
