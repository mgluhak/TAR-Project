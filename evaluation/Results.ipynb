{
 "cells": [
  {
   "cell_type": "code",
   "execution_count": 3,
   "metadata": {},
   "outputs": [],
   "source": [
    "from pandas import DataFrame\n",
    "import pickle\n",
    "import numpy as np"
   ]
  },
  {
   "cell_type": "code",
   "execution_count": 4,
   "metadata": {
    "collapsed": true
   },
   "outputs": [],
   "source": [
    "def convert_to_pandas(result_map):\n",
    "    df = DataFrame()\n",
    "    index_list = []\n",
    "    for key in result_map:\n",
    "        df = df.append([result_map[key]])\n",
    "        index_list.append(key)\n",
    "    df.index = index_list\n",
    "    df.columns = ['Accuracy', 'Precision', 'Recall', 'F1-Score']\n",
    "    return df\n",
    "\n",
    "def average_results(result_map):\n",
    "    avg_res_map = {}\n",
    "    for key in result_map:\n",
    "        avg_res_map[key] = (np.average(res) for res in result_map[key])\n",
    "    return avg_res_map\n",
    "\n",
    "def load_saved_result_map(path):\n",
    "    input_hist = open(path, 'rb')\n",
    "    result_map = pickle.load(input_hist)\n",
    "    input_hist.close()\n",
    "    # (acc, precision, recall, f1)\n",
    "    return result_map\n",
    "\n",
    "def show_save_result(path):\n",
    "    return convert_to_pandas(average_results(load_saved_result_map(path))).head()"
   ]
  },
  {
   "cell_type": "code",
   "execution_count": 3,
   "metadata": {},
   "outputs": [
    {
     "data": {
      "text/html": [
       "<div>\n",
       "<table border=\"1\" class=\"dataframe\">\n",
       "  <thead>\n",
       "    <tr style=\"text-align: right;\">\n",
       "      <th></th>\n",
       "      <th>Accuracy</th>\n",
       "      <th>Precision</th>\n",
       "      <th>Recall</th>\n",
       "      <th>F1-Score</th>\n",
       "    </tr>\n",
       "  </thead>\n",
       "  <tbody>\n",
       "    <tr>\n",
       "      <th>Gender only</th>\n",
       "      <td>0.721861</td>\n",
       "      <td>0.722749</td>\n",
       "      <td>0.721861</td>\n",
       "      <td>0.721587</td>\n",
       "    </tr>\n",
       "    <tr>\n",
       "      <th>Both</th>\n",
       "      <td>0.320645</td>\n",
       "      <td>0.226423</td>\n",
       "      <td>0.213048</td>\n",
       "      <td>0.199371</td>\n",
       "    </tr>\n",
       "    <tr>\n",
       "      <th>Age only</th>\n",
       "      <td>0.472451</td>\n",
       "      <td>0.247894</td>\n",
       "      <td>0.271583</td>\n",
       "      <td>0.231629</td>\n",
       "    </tr>\n",
       "  </tbody>\n",
       "</table>\n",
       "</div>"
      ],
      "text/plain": [
       "             Accuracy  Precision    Recall  F1-Score\n",
       "Gender only  0.721861   0.722749  0.721861  0.721587\n",
       "Both         0.320645   0.226423  0.213048  0.199371\n",
       "Age only     0.472451   0.247894  0.271583  0.231629"
      ]
     },
     "execution_count": 3,
     "metadata": {},
     "output_type": "execute_result"
    }
   ],
   "source": [
    "show_save_result('./results/svm_6_5_2017.pkl')"
   ]
  },
  {
   "cell_type": "code",
   "execution_count": 4,
   "metadata": {},
   "outputs": [
    {
     "data": {
      "text/html": [
       "<div>\n",
       "<table border=\"1\" class=\"dataframe\">\n",
       "  <thead>\n",
       "    <tr style=\"text-align: right;\">\n",
       "      <th></th>\n",
       "      <th>Accuracy</th>\n",
       "      <th>Precision</th>\n",
       "      <th>Recall</th>\n",
       "      <th>F1-Score</th>\n",
       "    </tr>\n",
       "  </thead>\n",
       "  <tbody>\n",
       "    <tr>\n",
       "      <th>Gender only</th>\n",
       "      <td>0.768605</td>\n",
       "      <td>0.769578</td>\n",
       "      <td>0.768605</td>\n",
       "      <td>0.768383</td>\n",
       "    </tr>\n",
       "    <tr>\n",
       "      <th>Both</th>\n",
       "      <td>0.208917</td>\n",
       "      <td>0.061087</td>\n",
       "      <td>0.124401</td>\n",
       "      <td>0.074074</td>\n",
       "    </tr>\n",
       "    <tr>\n",
       "      <th>Age only</th>\n",
       "      <td>0.488764</td>\n",
       "      <td>0.270331</td>\n",
       "      <td>0.261552</td>\n",
       "      <td>0.238127</td>\n",
       "    </tr>\n",
       "  </tbody>\n",
       "</table>\n",
       "</div>"
      ],
      "text/plain": [
       "             Accuracy  Precision    Recall  F1-Score\n",
       "Gender only  0.768605   0.769578  0.768605  0.768383\n",
       "Both         0.208917   0.061087  0.124401  0.074074\n",
       "Age only     0.488764   0.270331  0.261552  0.238127"
      ]
     },
     "execution_count": 4,
     "metadata": {},
     "output_type": "execute_result"
    }
   ],
   "source": [
    "show_save_result('./results/stacking_17_5_21_55.pkl')"
   ]
  },
  {
   "cell_type": "code",
   "execution_count": 7,
   "metadata": {},
   "outputs": [
    {
     "data": {
      "text/html": [
       "<div>\n",
       "<table border=\"1\" class=\"dataframe\">\n",
       "  <thead>\n",
       "    <tr style=\"text-align: right;\">\n",
       "      <th></th>\n",
       "      <th>Accuracy</th>\n",
       "      <th>Precision</th>\n",
       "      <th>Recall</th>\n",
       "      <th>F1-Score</th>\n",
       "    </tr>\n",
       "  </thead>\n",
       "  <tbody>\n",
       "    <tr>\n",
       "      <th>Gender only</th>\n",
       "      <td>0.738795</td>\n",
       "      <td>0.739140</td>\n",
       "      <td>0.738795</td>\n",
       "      <td>0.738673</td>\n",
       "    </tr>\n",
       "    <tr>\n",
       "      <th>Both</th>\n",
       "      <td>0.330340</td>\n",
       "      <td>0.249565</td>\n",
       "      <td>0.211922</td>\n",
       "      <td>0.206432</td>\n",
       "    </tr>\n",
       "    <tr>\n",
       "      <th>Age only</th>\n",
       "      <td>0.493259</td>\n",
       "      <td>0.256081</td>\n",
       "      <td>0.273001</td>\n",
       "      <td>0.252553</td>\n",
       "    </tr>\n",
       "  </tbody>\n",
       "</table>\n",
       "</div>"
      ],
      "text/plain": [
       "             Accuracy  Precision    Recall  F1-Score\n",
       "Gender only  0.738795   0.739140  0.738795  0.738673\n",
       "Both         0.330340   0.249565  0.211922  0.206432\n",
       "Age only     0.493259   0.256081  0.273001  0.252553"
      ]
     },
     "execution_count": 7,
     "metadata": {},
     "output_type": "execute_result"
    }
   ],
   "source": [
    "show_save_result('./results/model1_svm_26_5_2017.pkl')"
   ]
  },
  {
   "cell_type": "code",
   "execution_count": 6,
   "metadata": {},
   "outputs": [
    {
     "data": {
      "text/html": [
       "<div>\n",
       "<table border=\"1\" class=\"dataframe\">\n",
       "  <thead>\n",
       "    <tr style=\"text-align: right;\">\n",
       "      <th></th>\n",
       "      <th>Accuracy</th>\n",
       "      <th>Precision</th>\n",
       "      <th>Recall</th>\n",
       "      <th>F1-Score</th>\n",
       "    </tr>\n",
       "  </thead>\n",
       "  <tbody>\n",
       "    <tr>\n",
       "      <th>Both</th>\n",
       "      <td>0.252916</td>\n",
       "      <td>0.202447</td>\n",
       "      <td>0.171222</td>\n",
       "      <td>0.171042</td>\n",
       "    </tr>\n",
       "    <tr>\n",
       "      <th>Gender</th>\n",
       "      <td>0.640063</td>\n",
       "      <td>0.641224</td>\n",
       "      <td>0.640063</td>\n",
       "      <td>0.639342</td>\n",
       "    </tr>\n",
       "    <tr>\n",
       "      <th>Age</th>\n",
       "      <td>0.387600</td>\n",
       "      <td>0.198186</td>\n",
       "      <td>0.207477</td>\n",
       "      <td>0.189255</td>\n",
       "    </tr>\n",
       "  </tbody>\n",
       "</table>\n",
       "</div>"
      ],
      "text/plain": [
       "        Accuracy  Precision    Recall  F1-Score\n",
       "Both    0.252916   0.202447  0.171222  0.171042\n",
       "Gender  0.640063   0.641224  0.640063  0.639342\n",
       "Age     0.387600   0.198186  0.207477  0.189255"
      ]
     },
     "execution_count": 6,
     "metadata": {},
     "output_type": "execute_result"
    }
   ],
   "source": [
    "show_save_result('./results/w2v_25_5_2017.pkl')"
   ]
  },
  {
   "cell_type": "code",
   "execution_count": 6,
   "metadata": {},
   "outputs": [
    {
     "data": {
      "text/html": [
       "<div>\n",
       "<table border=\"1\" class=\"dataframe\">\n",
       "  <thead>\n",
       "    <tr style=\"text-align: right;\">\n",
       "      <th></th>\n",
       "      <th>Accuracy</th>\n",
       "      <th>Precision</th>\n",
       "      <th>Recall</th>\n",
       "      <th>F1-Score</th>\n",
       "    </tr>\n",
       "  </thead>\n",
       "  <tbody>\n",
       "    <tr>\n",
       "      <th>Both</th>\n",
       "      <td>0.284373</td>\n",
       "      <td>0.193906</td>\n",
       "      <td>0.178868</td>\n",
       "      <td>0.167999</td>\n",
       "    </tr>\n",
       "    <tr>\n",
       "      <th>Age only</th>\n",
       "      <td>0.424493</td>\n",
       "      <td>0.242272</td>\n",
       "      <td>0.247003</td>\n",
       "      <td>0.234864</td>\n",
       "    </tr>\n",
       "    <tr>\n",
       "      <th>Gender only</th>\n",
       "      <td>0.711469</td>\n",
       "      <td>0.716528</td>\n",
       "      <td>0.711469</td>\n",
       "      <td>0.709236</td>\n",
       "    </tr>\n",
       "  </tbody>\n",
       "</table>\n",
       "</div>"
      ],
      "text/plain": [
       "             Accuracy  Precision    Recall  F1-Score\n",
       "Both         0.284373   0.193906  0.178868  0.167999\n",
       "Age only     0.424493   0.242272  0.247003  0.234864\n",
       "Gender only  0.711469   0.716528  0.711469  0.709236"
      ]
     },
     "execution_count": 6,
     "metadata": {},
     "output_type": "execute_result"
    }
   ],
   "source": [
    "show_save_result('./results/baseline+features+w2v.pkl')"
   ]
  },
  {
   "cell_type": "code",
   "execution_count": 7,
   "metadata": {
    "collapsed": true
   },
   "outputs": [],
   "source": [
    "w2vmap = load_saved_result_map('./results/baseline+features+w2v.pkl')"
   ]
  },
  {
   "cell_type": "code",
   "execution_count": 20,
   "metadata": {},
   "outputs": [
    {
     "name": "stdout",
     "output_type": "stream",
     "text": [
      "Both [0.16018638619445072, 0.16922736837630453, 0.13301266003862386, 0.19591248146970283, 0.18165400498675394]\n",
      "Age only [0.21957716049382717, 0.22807953123971297, 0.23257869634340222, 0.29494252873563215, 0.19914392723381488]\n",
      "Gender only [0.65023847376788546, 0.65909090909090906, 0.71498898821090817, 0.7195652173913043, 0.80229885057471262]\n"
     ]
    }
   ],
   "source": [
    "for key in w2vmap:\n",
    "    print(key, w2vmap[key][3])"
   ]
  },
  {
   "cell_type": "code",
   "execution_count": 37,
   "metadata": {},
   "outputs": [],
   "source": [
    "glove_age_f3 = [0.2679861007447214, 0.28420838420838423, 0.24295664534470504, 0.29621343174566561, 0.19632816982214571]\n",
    "stacking_age_f3 = [0.765343, 0.732353515, 0.7434142315, 0.789999, 0.7536345631]"
   ]
  },
  {
   "cell_type": "code",
   "execution_count": 45,
   "metadata": {},
   "outputs": [
    {
     "name": "stdout",
     "output_type": "stream",
     "text": [
      "[0.84082687338501294, 0.65891472868217049, 0.70316554229372086, 0.6426545660805445, 0.66666666666666663]\n"
     ]
    }
   ],
   "source": [
    "baseline = load_saved_result_map('./results/svm_6_5_2017.pkl')\n",
    "with_features = load_saved_result_map('./results/model1_svm_26_5_2017.pkl')\n",
    "baseline_f3 = baseline['Age only'][3]\n",
    "baseline_gender_f3 = baseline['Gender only'][3]\n",
    "with_features_f3 = with_features['Age only'][3]\n",
    "print(baseline_gender_f3[5:])"
   ]
  },
  {
   "cell_type": "code",
   "execution_count": 46,
   "metadata": {},
   "outputs": [
    {
     "data": {
      "text/plain": [
       "Ttest_relResult(statistic=-1.4797804456863595, pvalue=0.21302985441551864)"
      ]
     },
     "execution_count": 46,
     "metadata": {},
     "output_type": "execute_result"
    }
   ],
   "source": [
    "from scipy.stats import ttest_rel\n",
    "\n",
    "ttest_rel(baseline_gender_f3[5:], stacking_age_f3)"
   ]
  },
  {
   "cell_type": "code",
   "execution_count": null,
   "metadata": {
    "collapsed": true
   },
   "outputs": [],
   "source": []
  }
 ],
 "metadata": {
  "kernelspec": {
   "display_name": "Python 3",
   "language": "python",
   "name": "python3"
  },
  "language_info": {
   "codemirror_mode": {
    "name": "ipython",
    "version": 3
   },
   "file_extension": ".py",
   "mimetype": "text/x-python",
   "name": "python",
   "nbconvert_exporter": "python",
   "pygments_lexer": "ipython3",
   "version": "3.5.2"
  }
 },
 "nbformat": 4,
 "nbformat_minor": 1
}
