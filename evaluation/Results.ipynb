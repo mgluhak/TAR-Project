{
 "cells": [
  {
   "cell_type": "code",
   "execution_count": 1,
   "metadata": {
    "collapsed": true
   },
   "outputs": [],
   "source": [
    "from pandas import DataFrame\n",
    "import pickle\n",
    "import numpy as np"
   ]
  },
  {
   "cell_type": "code",
   "execution_count": 2,
   "metadata": {
    "collapsed": true
   },
   "outputs": [],
   "source": [
    "def convert_to_pandas(result_map):\n",
    "    df = DataFrame()\n",
    "    index_list = []\n",
    "    for key in result_map:\n",
    "        df = df.append([result_map[key]])\n",
    "        index_list.append(key)\n",
    "    df.index = index_list\n",
    "    df.columns = ['Accuracy', 'Precision', 'Recall', 'F1-Score']\n",
    "    return df\n",
    "\n",
    "def average_results(result_map):\n",
    "    avg_res_map = {}\n",
    "    for key in result_map:\n",
    "        avg_res_map[key] = (np.average(res) for res in result_map[key])\n",
    "    return avg_res_map\n",
    "\n",
    "def load_saved_result_map(path):\n",
    "    input_hist = open(path, 'rb')\n",
    "    result_map = pickle.load(input_hist)\n",
    "    input_hist.close()\n",
    "    # (acc, precision, recall, f1)\n",
    "    return result_map\n",
    "\n",
    "def show_save_result(path):\n",
    "    return convert_to_pandas(average_results(load_saved_result_map(path))).head()"
   ]
  },
  {
   "cell_type": "code",
   "execution_count": 3,
   "metadata": {},
   "outputs": [
    {
     "data": {
      "text/html": [
       "<div>\n",
       "<table border=\"1\" class=\"dataframe\">\n",
       "  <thead>\n",
       "    <tr style=\"text-align: right;\">\n",
       "      <th></th>\n",
       "      <th>Accuracy</th>\n",
       "      <th>Precision</th>\n",
       "      <th>Recall</th>\n",
       "      <th>F1-Score</th>\n",
       "    </tr>\n",
       "  </thead>\n",
       "  <tbody>\n",
       "    <tr>\n",
       "      <th>Gender only</th>\n",
       "      <td>0.721861</td>\n",
       "      <td>0.722749</td>\n",
       "      <td>0.721861</td>\n",
       "      <td>0.721587</td>\n",
       "    </tr>\n",
       "    <tr>\n",
       "      <th>Both</th>\n",
       "      <td>0.320645</td>\n",
       "      <td>0.226423</td>\n",
       "      <td>0.213048</td>\n",
       "      <td>0.199371</td>\n",
       "    </tr>\n",
       "    <tr>\n",
       "      <th>Age only</th>\n",
       "      <td>0.472451</td>\n",
       "      <td>0.247894</td>\n",
       "      <td>0.271583</td>\n",
       "      <td>0.231629</td>\n",
       "    </tr>\n",
       "  </tbody>\n",
       "</table>\n",
       "</div>"
      ],
      "text/plain": [
       "             Accuracy  Precision    Recall  F1-Score\n",
       "Gender only  0.721861   0.722749  0.721861  0.721587\n",
       "Both         0.320645   0.226423  0.213048  0.199371\n",
       "Age only     0.472451   0.247894  0.271583  0.231629"
      ]
     },
     "execution_count": 3,
     "metadata": {},
     "output_type": "execute_result"
    }
   ],
   "source": [
    "show_save_result('./results/svm_6_5_2017.pkl')"
   ]
  },
  {
   "cell_type": "code",
   "execution_count": 4,
   "metadata": {},
   "outputs": [
    {
     "data": {
      "text/html": [
       "<div>\n",
       "<table border=\"1\" class=\"dataframe\">\n",
       "  <thead>\n",
       "    <tr style=\"text-align: right;\">\n",
       "      <th></th>\n",
       "      <th>Accuracy</th>\n",
       "      <th>Precision</th>\n",
       "      <th>Recall</th>\n",
       "      <th>F1-Score</th>\n",
       "    </tr>\n",
       "  </thead>\n",
       "  <tbody>\n",
       "    <tr>\n",
       "      <th>Gender only</th>\n",
       "      <td>0.768605</td>\n",
       "      <td>0.769578</td>\n",
       "      <td>0.768605</td>\n",
       "      <td>0.768383</td>\n",
       "    </tr>\n",
       "    <tr>\n",
       "      <th>Both</th>\n",
       "      <td>0.208917</td>\n",
       "      <td>0.061087</td>\n",
       "      <td>0.124401</td>\n",
       "      <td>0.074074</td>\n",
       "    </tr>\n",
       "    <tr>\n",
       "      <th>Age only</th>\n",
       "      <td>0.488764</td>\n",
       "      <td>0.270331</td>\n",
       "      <td>0.261552</td>\n",
       "      <td>0.238127</td>\n",
       "    </tr>\n",
       "  </tbody>\n",
       "</table>\n",
       "</div>"
      ],
      "text/plain": [
       "             Accuracy  Precision    Recall  F1-Score\n",
       "Gender only  0.768605   0.769578  0.768605  0.768383\n",
       "Both         0.208917   0.061087  0.124401  0.074074\n",
       "Age only     0.488764   0.270331  0.261552  0.238127"
      ]
     },
     "execution_count": 4,
     "metadata": {},
     "output_type": "execute_result"
    }
   ],
   "source": [
    "show_save_result('./results/stacking_17_5_21_55.pkl')"
   ]
  },
  {
   "cell_type": "code",
   "execution_count": 7,
   "metadata": {},
   "outputs": [
    {
     "data": {
      "text/html": [
       "<div>\n",
       "<table border=\"1\" class=\"dataframe\">\n",
       "  <thead>\n",
       "    <tr style=\"text-align: right;\">\n",
       "      <th></th>\n",
       "      <th>Accuracy</th>\n",
       "      <th>Precision</th>\n",
       "      <th>Recall</th>\n",
       "      <th>F1-Score</th>\n",
       "    </tr>\n",
       "  </thead>\n",
       "  <tbody>\n",
       "    <tr>\n",
       "      <th>Gender only</th>\n",
       "      <td>0.738795</td>\n",
       "      <td>0.739140</td>\n",
       "      <td>0.738795</td>\n",
       "      <td>0.738673</td>\n",
       "    </tr>\n",
       "    <tr>\n",
       "      <th>Both</th>\n",
       "      <td>0.330340</td>\n",
       "      <td>0.249565</td>\n",
       "      <td>0.211922</td>\n",
       "      <td>0.206432</td>\n",
       "    </tr>\n",
       "    <tr>\n",
       "      <th>Age only</th>\n",
       "      <td>0.493259</td>\n",
       "      <td>0.256081</td>\n",
       "      <td>0.273001</td>\n",
       "      <td>0.252553</td>\n",
       "    </tr>\n",
       "  </tbody>\n",
       "</table>\n",
       "</div>"
      ],
      "text/plain": [
       "             Accuracy  Precision    Recall  F1-Score\n",
       "Gender only  0.738795   0.739140  0.738795  0.738673\n",
       "Both         0.330340   0.249565  0.211922  0.206432\n",
       "Age only     0.493259   0.256081  0.273001  0.252553"
      ]
     },
     "execution_count": 7,
     "metadata": {},
     "output_type": "execute_result"
    }
   ],
   "source": [
    "show_save_result('./results/model1_svm_26_5_2017.pkl')"
   ]
  },
  {
   "cell_type": "code",
   "execution_count": 6,
   "metadata": {},
   "outputs": [
    {
     "data": {
      "text/html": [
       "<div>\n",
       "<table border=\"1\" class=\"dataframe\">\n",
       "  <thead>\n",
       "    <tr style=\"text-align: right;\">\n",
       "      <th></th>\n",
       "      <th>Accuracy</th>\n",
       "      <th>Precision</th>\n",
       "      <th>Recall</th>\n",
       "      <th>F1-Score</th>\n",
       "    </tr>\n",
       "  </thead>\n",
       "  <tbody>\n",
       "    <tr>\n",
       "      <th>Both</th>\n",
       "      <td>0.252916</td>\n",
       "      <td>0.202447</td>\n",
       "      <td>0.171222</td>\n",
       "      <td>0.171042</td>\n",
       "    </tr>\n",
       "    <tr>\n",
       "      <th>Gender</th>\n",
       "      <td>0.640063</td>\n",
       "      <td>0.641224</td>\n",
       "      <td>0.640063</td>\n",
       "      <td>0.639342</td>\n",
       "    </tr>\n",
       "    <tr>\n",
       "      <th>Age</th>\n",
       "      <td>0.387600</td>\n",
       "      <td>0.198186</td>\n",
       "      <td>0.207477</td>\n",
       "      <td>0.189255</td>\n",
       "    </tr>\n",
       "  </tbody>\n",
       "</table>\n",
       "</div>"
      ],
      "text/plain": [
       "        Accuracy  Precision    Recall  F1-Score\n",
       "Both    0.252916   0.202447  0.171222  0.171042\n",
       "Gender  0.640063   0.641224  0.640063  0.639342\n",
       "Age     0.387600   0.198186  0.207477  0.189255"
      ]
     },
     "execution_count": 6,
     "metadata": {},
     "output_type": "execute_result"
    }
   ],
   "source": [
    "show_save_result('./results/w2v_25_5_2017.pkl')"
   ]
  },
  {
   "cell_type": "code",
   "execution_count": null,
   "metadata": {
    "collapsed": true
   },
   "outputs": [],
   "source": []
  }
 ],
 "metadata": {
  "kernelspec": {
   "display_name": "Python 3",
   "language": "python",
   "name": "python3"
  },
  "language_info": {
   "codemirror_mode": {
    "name": "ipython",
    "version": 3
   },
   "file_extension": ".py",
   "mimetype": "text/x-python",
   "name": "python",
   "nbconvert_exporter": "python",
   "pygments_lexer": "ipython3",
   "version": "3.5.2"
  }
 },
 "nbformat": 4,
 "nbformat_minor": 1
}
