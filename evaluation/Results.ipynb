{
 "metadata": {
  "name": "",
  "signature": "sha256:bc0d04e77dfc8f8de594785fea7f7060d5ed9b11e64a4d6aea655a18baebcf5c"
 },
 "nbformat": 3,
 "nbformat_minor": 0,
 "worksheets": [
  {
   "cells": [
    {
     "cell_type": "code",
     "collapsed": false,
     "input": [
      "from pandas import DataFrame\n",
      "import pickle\n",
      "import numpy as np"
     ],
     "language": "python",
     "metadata": {},
     "outputs": [],
     "prompt_number": 6
    },
    {
     "cell_type": "code",
     "collapsed": false,
     "input": [
      "def convert_to_pandas(result_map):\n",
      "    df = DataFrame()\n",
      "    index_list = []\n",
      "    for key in result_map:\n",
      "        df = df.append([result_map[key]])\n",
      "        index_list.append(key)\n",
      "    df.index = index_list\n",
      "    df.columns = ['Accuracy', 'Precision', 'Recall', 'F1-Score']\n",
      "    return df\n",
      "\n",
      "def average_results(result_map):\n",
      "    avg_res_map = {}\n",
      "    for key in result_map:\n",
      "        avg_res_map[key] = (np.average(res) for res in result_map[key])\n",
      "    return avg_res_map\n",
      "\n",
      "def load_saved_result_map(path):\n",
      "    input_hist = open(path, 'rb')\n",
      "    result_map = pickle.load(input_hist)\n",
      "    input_hist.close()\n",
      "    # (acc, precision, recall, f1)\n",
      "    return result_map\n",
      "\n",
      "def show_save_result(path):\n",
      "    return convert_to_pandas(average_results(load_saved_result_map(path))).head()"
     ],
     "language": "python",
     "metadata": {},
     "outputs": [],
     "prompt_number": 24
    },
    {
     "cell_type": "code",
     "collapsed": false,
     "input": [
      "show_save_result('./results/svm_6_5_2017.pkl')"
     ],
     "language": "python",
     "metadata": {},
     "outputs": [
      {
       "html": [
        "<div style=\"max-width:1500px;overflow:auto;\">\n",
        "<table border=\"1\" class=\"dataframe\">\n",
        "  <thead>\n",
        "    <tr style=\"text-align: right;\">\n",
        "      <th></th>\n",
        "      <th>Accuracy</th>\n",
        "      <th>Precision</th>\n",
        "      <th>Recall</th>\n",
        "      <th>F1-Score</th>\n",
        "    </tr>\n",
        "  </thead>\n",
        "  <tbody>\n",
        "    <tr>\n",
        "      <th>Gender only</th>\n",
        "      <td>0.721861</td>\n",
        "      <td>0.722749</td>\n",
        "      <td>0.721861</td>\n",
        "      <td>0.721587</td>\n",
        "    </tr>\n",
        "    <tr>\n",
        "      <th>Both</th>\n",
        "      <td>0.320645</td>\n",
        "      <td>0.226423</td>\n",
        "      <td>0.213048</td>\n",
        "      <td>0.199371</td>\n",
        "    </tr>\n",
        "    <tr>\n",
        "      <th>Age only</th>\n",
        "      <td>0.472451</td>\n",
        "      <td>0.247894</td>\n",
        "      <td>0.271583</td>\n",
        "      <td>0.231629</td>\n",
        "    </tr>\n",
        "  </tbody>\n",
        "</table>\n",
        "</div>"
       ],
       "metadata": {},
       "output_type": "pyout",
       "prompt_number": 28,
       "text": [
        "             Accuracy  Precision    Recall  F1-Score\n",
        "Gender only  0.721861   0.722749  0.721861  0.721587\n",
        "Both         0.320645   0.226423  0.213048  0.199371\n",
        "Age only     0.472451   0.247894  0.271583  0.231629"
       ]
      }
     ],
     "prompt_number": 28
    }
   ],
   "metadata": {}
  }
 ]
}